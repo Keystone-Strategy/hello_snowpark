{
 "cells": [
  {
   "cell_type": "markdown",
   "id": "1518ad26",
   "metadata": {},
   "source": [
    "# Environment Setup"
   ]
  },
  {
   "cell_type": "markdown",
   "id": "86905c9b",
   "metadata": {},
   "source": [
    "In your terminal, cd into this repository and run the following: <br>\n",
    "<code>conda env create -f conda_env.yml\n",
    "conda activate pysnowpark<code>"
   ]
  },
  {
   "cell_type": "code",
   "execution_count": 1,
   "id": "fa4d5efe",
   "metadata": {},
   "outputs": [],
   "source": [
    "# add to Readme"
   ]
  },
  {
   "cell_type": "markdown",
   "id": "2f4d4ecd",
   "metadata": {},
   "source": [
    "## Imports"
   ]
  },
  {
   "cell_type": "code",
   "execution_count": 1,
   "id": "f01b6c12",
   "metadata": {},
   "outputs": [],
   "source": [
    "from snowflake.snowpark.session import Session\n",
    "import snowflake.snowpark.functions as F\n",
    "import snowflake.snowpark.types as T\n",
    "from Environment import env_setup\n",
    "\n",
    "import getpass\n",
    "import pandas as pd"
   ]
  },
  {
   "cell_type": "code",
   "execution_count": null,
   "id": "6f4de6f8",
   "metadata": {},
   "outputs": [],
   "source": [
    "# connection_parameters = {\n",
    "#     \"account\": \"<your snowflake account>\",\n",
    "#     \"user\": \"<your snowflake user>\",\n",
    "#     \"password\": \"<your snowflake password>\",\n",
    "#     \"role\": \"<your snowflake role>\",  # optional\n",
    "#     \"warehouse\": \"<your snowflake warehouse>\",  # optional\n",
    "#     \"database\": \"<your snowflake database>\",  # optional\n",
    "#     \"schema\": \"<your snowflake schema>\",  # optional\n",
    "#   }  \n",
    "\n",
    "# new_session = Session.builder.configs(connection_parameters).create()\n",
    "# new_session.close() "
   ]
  },
  {
   "cell_type": "markdown",
   "id": "dccba6fd",
   "metadata": {},
   "source": [
    "## Create Snowpark Session"
   ]
  },
  {
   "cell_type": "code",
   "execution_count": 2,
   "id": "dbe71462",
   "metadata": {},
   "outputs": [
    {
     "name": "stdout",
     "output_type": "stream",
     "text": [
      "Initiating login request with your identity provider. A browser window should have opened for you to complete the login. If you can't see it, check existing browser windows, or your OS settings. Press CTRL+C to abort and try again...\n",
      "Going to open: https://login.microsoftonline.com/e8169739-331a-4116-99ae-d0f3a5f05311/saml2?SAMLRequest=nZJPb%2BIwEMW%2FSuQ9J7ET%2FsUCqrQsLRIUVCiVejOJAxaJnfU4DfTTrxNA6h7aw0o5RPab%2BT3Pm%2BHdqcidD65BKDlCxMPI4TJRqZD7EXrdTN0BcsAwmbJcST5CZw7objwEVuQljStzkC%2F8T8XBOLaRBNpcjFClJVUMBFDJCg7UJHQdL%2BY08DBlAFwbi0PXkhSEZR2MKanv13Xt1aGn9N4PMMY%2BjnyraiS%2F0BdE%2BTOj1MqoROW3kpN90zcI4uNOg7AKS1hdC%2B%2BFvIzgJ8ruIgL6tNms3NVyvUFOfHvdg5JQFVyvuf4QCX99mV8MgHVw0niAuz2vApczMG7gsRo8kKrOcnbkiSrKytjOnv3zM576udoLO6%2FZZITKo0inq20s%2BvGhfxST8%2Bdit51%2FPr4toh27P7H50zp4e1yeZxAs0%2FffCXK2t3SDJt0ZQMVnssnU2CMchC7u2G8TBBR3adD3BmTwjpyJzVRIZtrKm%2FHWh1eIRCtQmVEyF5K3LvmA9KJ%2BGLlhSJjbIaTnRhHjboqzkHUz3A0J8ZvkAnTZHtoa0eP%2FmcnQ%2F9rhuozPNp%2FZZKVykZydqdIFM9%2FHRzzSnojUzVop5QUTeZymmgPYGPNc1Q%2BaM2N33uiKI398of679eO%2F&RelayState=51532 to authenticate...\n"
     ]
    }
   ],
   "source": [
    "# enter full name as a string\n",
    "connection_parameters = env_setup('zoe wortzman')\n",
    "session = Session.builder.configs(connection_parameters).create()"
   ]
  },
  {
   "cell_type": "markdown",
   "id": "33dc96fd",
   "metadata": {},
   "source": [
    "## Load HOL data into Snowflake"
   ]
  },
  {
   "cell_type": "code",
   "execution_count": 3,
   "id": "dca48415",
   "metadata": {},
   "outputs": [],
   "source": [
    "# Loading from local CSV-files\n",
    "application_record_df = pd.read_csv('data/application_record.csv.zip')\n",
    "credit_record_df = pd.read_csv('data/credit_record.csv.zip')"
   ]
  },
  {
   "cell_type": "code",
   "execution_count": 4,
   "id": "7d0c4924",
   "metadata": {},
   "outputs": [
    {
     "data": {
      "text/plain": [
       "<snowflake.snowpark.table.Table at 0x7fe8333cb910>"
      ]
     },
     "execution_count": 4,
     "metadata": {},
     "output_type": "execute_result"
    }
   ],
   "source": [
    "# Upload to Snowflake\n",
    "session.write_pandas(application_record_df, table_name='APPLICATION_RECORD', auto_create_table=True, overwrite=True)\n",
    "session.write_pandas(credit_record_df, table_name='CREDIT_RECORD', auto_create_table=True, overwrite=True)"
   ]
  },
  {
   "cell_type": "code",
   "execution_count": null,
   "id": "8d34d924",
   "metadata": {},
   "outputs": [],
   "source": []
  }
 ],
 "metadata": {
  "kernelspec": {
   "display_name": "Python 3 (ipykernel)",
   "language": "python",
   "name": "python3"
  },
  "language_info": {
   "codemirror_mode": {
    "name": "ipython",
    "version": 3
   },
   "file_extension": ".py",
   "mimetype": "text/x-python",
   "name": "python",
   "nbconvert_exporter": "python",
   "pygments_lexer": "ipython3",
   "version": "3.8.16"
  }
 },
 "nbformat": 4,
 "nbformat_minor": 5
}
